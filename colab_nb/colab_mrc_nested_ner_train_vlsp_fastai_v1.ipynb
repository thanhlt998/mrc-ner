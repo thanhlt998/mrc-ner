{
  "nbformat": 4,
  "nbformat_minor": 0,
  "metadata": {
    "kernelspec": {
      "display_name": "Python 3",
      "language": "python",
      "name": "python3"
    },
    "language_info": {
      "codemirror_mode": {
        "name": "ipython",
        "version": 2
      },
      "file_extension": ".py",
      "mimetype": "text/x-python",
      "name": "python",
      "nbconvert_exporter": "python",
      "pygments_lexer": "ipython2",
      "version": "2.7.6"
    },
    "colab": {
      "name": "mrc_nested_ner_train_vlsp_fastai.ipynb",
      "provenance": [],
      "collapsed_sections": [],
      "toc_visible": true
    },
    "accelerator": "GPU"
  },
  "cells": [
    {
      "cell_type": "code",
      "metadata": {
        "colab": {
          "base_uri": "https://localhost:8080/"
        },
        "id": "J09A-nhYtcEg",
        "outputId": "bf85e116-584d-4cce-d129-731f264f871f"
      },
      "source": [
        "!nvidia-smi"
      ],
      "execution_count": null,
      "outputs": [
        {
          "output_type": "stream",
          "text": [
            "Mon Jan  4 11:36:43 2021       \n",
            "+-----------------------------------------------------------------------------+\n",
            "| NVIDIA-SMI 460.27.04    Driver Version: 418.67       CUDA Version: 10.1     |\n",
            "|-------------------------------+----------------------+----------------------+\n",
            "| GPU  Name        Persistence-M| Bus-Id        Disp.A | Volatile Uncorr. ECC |\n",
            "| Fan  Temp  Perf  Pwr:Usage/Cap|         Memory-Usage | GPU-Util  Compute M. |\n",
            "|                               |                      |               MIG M. |\n",
            "|===============================+======================+======================|\n",
            "|   0  Tesla V100-SXM2...  Off  | 00000000:00:04.0 Off |                    0 |\n",
            "| N/A   37C    P0    25W / 300W |      0MiB / 16130MiB |      0%      Default |\n",
            "|                               |                      |                 ERR! |\n",
            "+-------------------------------+----------------------+----------------------+\n",
            "                                                                               \n",
            "+-----------------------------------------------------------------------------+\n",
            "| Processes:                                                                  |\n",
            "|  GPU   GI   CI        PID   Type   Process name                  GPU Memory |\n",
            "|        ID   ID                                                   Usage      |\n",
            "|=============================================================================|\n",
            "|  No running processes found                                                 |\n",
            "+-----------------------------------------------------------------------------+\n"
          ],
          "name": "stdout"
        }
      ]
    },
    {
      "cell_type": "code",
      "metadata": {
        "colab": {
          "base_uri": "https://localhost:8080/"
        },
        "id": "xxqzXEC9tpyg",
        "outputId": "78508726-fb87-4592-9593-92a26643dfae"
      },
      "source": [
        "# thanhlt9981\n",
        "from google.colab import drive\n",
        "drive.mount('/content/drive')"
      ],
      "execution_count": null,
      "outputs": [
        {
          "output_type": "stream",
          "text": [
            "Mounted at /content/drive\n"
          ],
          "name": "stdout"
        }
      ]
    },
    {
      "cell_type": "code",
      "metadata": {
        "colab": {
          "base_uri": "https://localhost:8080/"
        },
        "id": "W3eHLw1ft3QZ",
        "outputId": "50a6ad2c-e034-462a-d866-d560e9ec261e"
      },
      "source": [
        "%cd /content/drive/MyDrive/models/"
      ],
      "execution_count": null,
      "outputs": [
        {
          "output_type": "stream",
          "text": [
            "/content/drive/MyDrive/models\n"
          ],
          "name": "stdout"
        }
      ]
    },
    {
      "cell_type": "code",
      "metadata": {
        "colab": {
          "base_uri": "https://localhost:8080/"
        },
        "id": "XKdiHYI3t8pO",
        "outputId": "a37fdb2f-a796-4a17-8849-c95cc381cf72"
      },
      "source": [
        "!git clone https://github.com/thanhlt998/mrc-ner.git"
      ],
      "execution_count": null,
      "outputs": [
        {
          "output_type": "stream",
          "text": [
            "Cloning into 'mrc-ner'...\n",
            "remote: Enumerating objects: 115, done.\u001b[K\n",
            "remote: Counting objects: 100% (115/115), done.\u001b[K\n",
            "remote: Compressing objects: 100% (82/82), done.\u001b[K\n",
            "remote: Total 115 (delta 53), reused 90 (delta 28), pack-reused 0\u001b[K\n",
            "Receiving objects: 100% (115/115), 58.90 KiB | 350.00 KiB/s, done.\n",
            "Resolving deltas: 100% (53/53), done.\n"
          ],
          "name": "stdout"
        }
      ]
    },
    {
      "cell_type": "code",
      "metadata": {
        "colab": {
          "base_uri": "https://localhost:8080/"
        },
        "id": "gnnbdY4Et_cA",
        "outputId": "75b5e8d9-a3b9-4388-e57d-d5fd098f8155"
      },
      "source": [
        "%cd mrc-ner"
      ],
      "execution_count": null,
      "outputs": [
        {
          "output_type": "stream",
          "text": [
            "/content/drive/MyDrive/models/mrc-ner\n"
          ],
          "name": "stdout"
        }
      ]
    },
    {
      "cell_type": "code",
      "metadata": {
        "colab": {
          "base_uri": "https://localhost:8080/"
        },
        "id": "M52xlOgMuCc1",
        "outputId": "69263983-7409-493d-9d66-a987b6e1c325"
      },
      "source": [
        "!wget -O data.zip https://husteduvn-my.sharepoint.com/:u:/g/personal/thanh_lt163705_sis_hust_edu_vn/Ee7SM-TG9lhDm1wckP6px0EBE9KxYRuv2ga4TMuiUZKE2g?download=1"
      ],
      "execution_count": null,
      "outputs": [
        {
          "output_type": "stream",
          "text": [
            "--2021-01-04 09:26:33--  https://husteduvn-my.sharepoint.com/:u:/g/personal/thanh_lt163705_sis_hust_edu_vn/Ee7SM-TG9lhDm1wckP6px0EBE9KxYRuv2ga4TMuiUZKE2g?download=1\n",
            "Resolving husteduvn-my.sharepoint.com (husteduvn-my.sharepoint.com)... 13.107.136.9\n",
            "Connecting to husteduvn-my.sharepoint.com (husteduvn-my.sharepoint.com)|13.107.136.9|:443... connected.\n",
            "HTTP request sent, awaiting response... 302 Found\n",
            "Location: /personal/thanh_lt163705_sis_hust_edu_vn/Documents/data/ner_data/mrc/data.zip?originalPath=aHR0cHM6Ly9odXN0ZWR1dm4tbXkuc2hhcmVwb2ludC5jb20vOnU6L2cvcGVyc29uYWwvdGhhbmhfbHQxNjM3MDVfc2lzX2h1c3RfZWR1X3ZuL0VlN1NNLVRHOWxoRG0xd2NrUDZweDBFQkU5S3hZUnV2MmdhNFRNdWlVWktFMmc_cnRpbWU9NkZRTjFKS3cyRWc [following]\n",
            "--2021-01-04 09:26:34--  https://husteduvn-my.sharepoint.com/personal/thanh_lt163705_sis_hust_edu_vn/Documents/data/ner_data/mrc/data.zip?originalPath=aHR0cHM6Ly9odXN0ZWR1dm4tbXkuc2hhcmVwb2ludC5jb20vOnU6L2cvcGVyc29uYWwvdGhhbmhfbHQxNjM3MDVfc2lzX2h1c3RfZWR1X3ZuL0VlN1NNLVRHOWxoRG0xd2NrUDZweDBFQkU5S3hZUnV2MmdhNFRNdWlVWktFMmc_cnRpbWU9NkZRTjFKS3cyRWc\n",
            "Reusing existing connection to husteduvn-my.sharepoint.com:443.\n",
            "HTTP request sent, awaiting response... 200 OK\n",
            "Length: 4705105 (4.5M) [application/x-zip-compressed]\n",
            "Saving to: ‘data.zip’\n",
            "\n",
            "data.zip            100%[===================>]   4.49M  26.6MB/s    in 0.2s    \n",
            "\n",
            "2021-01-04 09:26:35 (26.6 MB/s) - ‘data.zip’ saved [4705105/4705105]\n",
            "\n"
          ],
          "name": "stdout"
        }
      ]
    },
    {
      "cell_type": "code",
      "metadata": {
        "colab": {
          "base_uri": "https://localhost:8080/"
        },
        "id": "xBj11qZ1uFp7",
        "outputId": "1a8e7710-a570-43d1-b1ae-3cfffb3512b4"
      },
      "source": [
        "!unzip data.zip"
      ],
      "execution_count": null,
      "outputs": [
        {
          "output_type": "stream",
          "text": [
            "Archive:  data.zip\n",
            "   creating: data/ace2004/\n",
            "  inflating: data/ace2004/mrc-ner.dev  \n",
            "  inflating: data/ace2004/mrc-ner.test  \n",
            "  inflating: data/ace2004/mrc-ner.train  \n",
            "   creating: data/vlsp_processed/\n",
            "  inflating: data/vlsp_processed/dev.jsonl  \n",
            "  inflating: data/vlsp_processed/test.jsonl  \n",
            "  inflating: data/vlsp_processed/train.jsonl  \n"
          ],
          "name": "stdout"
        }
      ]
    },
    {
      "cell_type": "code",
      "metadata": {
        "id": "aJMd9X1iuJS4"
      },
      "source": [
        "!pip install -r requirements.txt"
      ],
      "execution_count": null,
      "outputs": []
    },
    {
      "cell_type": "code",
      "metadata": {
        "id": "Cv_0t2hfuMPk"
      },
      "source": [
        "!pip install fastai --upgrade"
      ],
      "execution_count": null,
      "outputs": []
    },
    {
      "cell_type": "markdown",
      "metadata": {
        "collapsed": true,
        "pycharm": {
          "name": "#%% md\n"
        },
        "id": "7CN9-RVXtIwi"
      },
      "source": [
        "# Import lib, modules"
      ]
    },
    {
      "cell_type": "code",
      "metadata": {
        "pycharm": {
          "name": "#%%\n"
        },
        "id": "1YcXUrVItIwq"
      },
      "source": [
        "import torch\n",
        "from datasets.mrc_ner_dataset_vlsp_fastai import SentenceTransform, YTransform, BeforeBatchTransform\n",
        "from utils.read_file import load_jsonl\n",
        "from transformers import PhobertTokenizer\n",
        "from fastai.text.all import (\n",
        "    Datasets,\n",
        "    tensor,\n",
        "    Learner, Callback, store_attr, NativeMixedPrecision,\n",
        "    EarlyStoppingCallback, SaveModelCallback, ReduceLROnPlateau, \n",
        "    CSVLogger,\n",
        "    GradientAccumulation,\n",
        "    RAdam,\n",
        ")\n",
        "import os\n",
        "from models.phobert_query_ner import PhoBertQueryNER, splitter\n",
        "from models.query_ner_config import PhobertQueryNerConfig\n",
        "from loss.loss_func_fastai import CustomLoss\n",
        "from metrics.query_span_f1_fastai import QuerySpanF1"
      ],
      "execution_count": null,
      "outputs": []
    },
    {
      "cell_type": "markdown",
      "metadata": {
        "collapsed": false,
        "pycharm": {
          "name": "#%% md\n"
        },
        "id": "g3GqiMYGtIwt"
      },
      "source": [
        "# Config"
      ]
    },
    {
      "cell_type": "code",
      "metadata": {
        "pycharm": {
          "name": "#%%\n"
        },
        "id": "pqxURPNRtIwt"
      },
      "source": [
        "# Config\n",
        "bert_model = 'vinai/phobert-base'\n",
        "bert_dropout = 0.1\n",
        "mrc_dropout = 0.3\n",
        "loss_type = 'bce'   # bce, dice\n",
        "flat_ner = False\n",
        "span_loss_candidates = 'pred_and_gold' # all, pred_and_gold, gold\n",
        "max_length = 210\n",
        "batch_size = 10\n",
        "weight_decay = 0.01\n",
        "weight_start = 1.0\n",
        "weight_end = 1.0\n",
        "weight_span = 0.1\n",
        "data_dir = 'data/vlsp_processed'"
      ],
      "execution_count": null,
      "outputs": []
    },
    {
      "cell_type": "markdown",
      "metadata": {
        "collapsed": false,
        "pycharm": {
          "name": "#%% md\n"
        },
        "id": "fkzx3T8stIwt"
      },
      "source": [
        "# Data"
      ]
    },
    {
      "cell_type": "markdown",
      "metadata": {
        "collapsed": false,
        "pycharm": {
          "name": "#%% md\n"
        },
        "id": "SCMt8SUHtIwt"
      },
      "source": [
        "## Load data"
      ]
    },
    {
      "cell_type": "code",
      "metadata": {
        "pycharm": {
          "name": "#%%\n"
        },
        "id": "dRkApjg1tIwu"
      },
      "source": [
        "train_data = load_jsonl(os.path.join(data_dir, 'train.jsonl'))\n",
        "valid_data = load_jsonl(os.path.join(data_dir, 'dev.jsonl'))\n",
        "test_data = load_jsonl(os.path.join(data_dir, 'test.jsonl'))"
      ],
      "execution_count": null,
      "outputs": []
    },
    {
      "cell_type": "markdown",
      "metadata": {
        "collapsed": false,
        "pycharm": {
          "name": "#%% md\n"
        },
        "id": "WTzS3cQctIwu"
      },
      "source": [
        "## Data Pipeline"
      ]
    },
    {
      "cell_type": "code",
      "metadata": {
        "pycharm": {
          "name": "#%%\n"
        },
        "id": "lmnPbwtTtIwu"
      },
      "source": [
        "train_valid_data = [*train_data, *valid_data]\n",
        "n_samples = len(train_valid_data)"
      ],
      "execution_count": null,
      "outputs": []
    },
    {
      "cell_type": "code",
      "metadata": {
        "pycharm": {
          "name": "#%%\n"
        },
        "id": "AvTKWQawtIwu"
      },
      "source": [
        "splits = (list(range(len(train_data))), range(len(train_data), n_samples))"
      ],
      "execution_count": null,
      "outputs": []
    },
    {
      "cell_type": "code",
      "metadata": {
        "pycharm": {
          "name": "#%%\n"
        },
        "colab": {
          "base_uri": "https://localhost:8080/"
        },
        "id": "xeMqXYmItIwv",
        "outputId": "3acea58b-bf89-4f28-9e3b-f42ccb73896b"
      },
      "source": [
        "tokenizer = PhobertTokenizer.from_pretrained(bert_model)"
      ],
      "execution_count": null,
      "outputs": [
        {
          "output_type": "stream",
          "text": [
            "Special tokens have been added in the vocabulary, make sure the associated word embedding are fine-tuned or trained.\n"
          ],
          "name": "stderr"
        }
      ]
    },
    {
      "cell_type": "code",
      "metadata": {
        "pycharm": {
          "name": "#%%\n"
        },
        "id": "Du9HpV-XtIww"
      },
      "source": [
        "sent_tfms = SentenceTransform(\n",
        "    tokenizer=tokenizer,\n",
        "    possible_only=False,\n",
        ")"
      ],
      "execution_count": null,
      "outputs": []
    },
    {
      "cell_type": "code",
      "metadata": {
        "pycharm": {
          "name": "#%%\n"
        },
        "id": "a55cOtQKtIww"
      },
      "source": [
        "# data = [sent_tfms(i) for i in train_valid_data]"
      ],
      "execution_count": null,
      "outputs": []
    },
    {
      "cell_type": "code",
      "metadata": {
        "pycharm": {
          "name": "#%%\n"
        },
        "id": "7Rf5ZznitIww"
      },
      "source": [
        "# test_data = [sent_tfms(i) for i in test_data]"
      ],
      "execution_count": null,
      "outputs": []
    },
    {
      "cell_type": "markdown",
      "metadata": {
        "collapsed": false,
        "pycharm": {
          "name": "#%% md\n"
        },
        "id": "YRMqK-qWtIww"
      },
      "source": [
        "### Save data"
      ]
    },
    {
      "cell_type": "code",
      "metadata": {
        "pycharm": {
          "name": "#%%\n"
        },
        "id": "-4HT_kv3tIww"
      },
      "source": [
        "# torch.save(data, 'train_valid_data.pkl')\n",
        "# torch.save(test_data, 'test_data.pkl')"
      ],
      "execution_count": null,
      "outputs": []
    },
    {
      "cell_type": "markdown",
      "metadata": {
        "id": "r4FhpNuQuiVN"
      },
      "source": [
        "### Load saved data"
      ]
    },
    {
      "cell_type": "code",
      "metadata": {
        "pycharm": {
          "name": "#%%\n"
        },
        "id": "zlxvP7oItIwx"
      },
      "source": [
        "data = torch.load('train_valid_data.pkl')\n",
        "test_data = torch.load('test_data.pkl')"
      ],
      "execution_count": null,
      "outputs": []
    },
    {
      "cell_type": "markdown",
      "metadata": {
        "collapsed": false,
        "pycharm": {
          "name": "#%% md\n"
        },
        "id": "iXjE2kBotIwx"
      },
      "source": [
        "## Dataset"
      ]
    },
    {
      "cell_type": "code",
      "metadata": {
        "pycharm": {
          "name": "#%%\n"
        },
        "id": "vxE_9oFBtIwx"
      },
      "source": [
        "def get_token_ids(x):\n",
        "    return x['token_ids']\n",
        "x_tfms = [get_token_ids, tensor]\n",
        "y_tfms = [YTransform()]\n",
        "ds = Datasets(\n",
        "    data,\n",
        "    splits=splits,\n",
        "    tfms=[x_tfms, y_tfms],\n",
        "    n_inp=1,\n",
        ")"
      ],
      "execution_count": null,
      "outputs": []
    },
    {
      "cell_type": "code",
      "metadata": {
        "pycharm": {
          "name": "#%%\n"
        },
        "id": "Yl94giOutIwx"
      },
      "source": [
        "# ds[0], ds.show(ds[0])"
      ],
      "execution_count": null,
      "outputs": []
    },
    {
      "cell_type": "markdown",
      "metadata": {
        "collapsed": false,
        "pycharm": {
          "name": "#%% md\n"
        },
        "id": "FT9DG0uqtIwy"
      },
      "source": [
        "## Dataloader"
      ]
    },
    {
      "cell_type": "code",
      "metadata": {
        "pycharm": {
          "name": "#%%\n"
        },
        "id": "v_-m1irctIwy"
      },
      "source": [
        "def get_dls(ds, bs=8,):\n",
        "    return ds.dataloaders(\n",
        "        bs=bs,\n",
        "        before_batch=BeforeBatchTransform(\n",
        "            max_seq_length=max_length,\n",
        "            pad_fields=[0, 1, 2, 3, 4],\n",
        "            pad_values=[tokenizer.pad_token_id, 0, 0, 0, 0],\n",
        "            pad_token_id=tokenizer.pad_token_id,\n",
        "            sep_token_id=tokenizer.sep_token_id,\n",
        "        ),\n",
        "        n_inp=1,\n",
        "        verbose=5,\n",
        "    )"
      ],
      "execution_count": null,
      "outputs": []
    },
    {
      "cell_type": "code",
      "metadata": {
        "colab": {
          "base_uri": "https://localhost:8080/"
        },
        "id": "JD79nnzgVdq1",
        "outputId": "712ae31c-8da8-4097-e898-c7f133ea1b15"
      },
      "source": [
        "dls = get_dls(ds, batch_size)"
      ],
      "execution_count": null,
      "outputs": [
        {
          "output_type": "stream",
          "text": [
            "Setting up after_item: Pipeline: \n",
            "Setting up before_batch: Pipeline: BeforeBatchTransform\n",
            "Setting up after_batch: Pipeline: \n"
          ],
          "name": "stdout"
        }
      ]
    },
    {
      "cell_type": "code",
      "metadata": {
        "pycharm": {
          "name": "#%%\n"
        },
        "id": "K6rctBS_tIwz"
      },
      "source": [
        "# dls.one_batch()"
      ],
      "execution_count": null,
      "outputs": []
    },
    {
      "cell_type": "markdown",
      "metadata": {
        "id": "Lmpk78JPOOAz"
      },
      "source": [
        "# Model"
      ]
    },
    {
      "cell_type": "code",
      "metadata": {
        "pycharm": {
          "name": "#%%\n"
        },
        "id": "cW5qjN2OtIw0"
      },
      "source": [
        "class WrapperPhoBertQueryNER(PhoBertQueryNER):\n",
        "    def forward(self, tokens):\n",
        "        attention_mask = (tokens != self.pad_token_id).long()\n",
        "        return super().forward(input_ids=tokens, token_type_ids=None, attention_mask=attention_mask)"
      ],
      "execution_count": null,
      "outputs": []
    },
    {
      "cell_type": "markdown",
      "metadata": {
        "id": "CfLirLiLOQFm"
      },
      "source": [
        "# Callback"
      ]
    },
    {
      "cell_type": "code",
      "metadata": {
        "id": "EOqCMGtZLjDy"
      },
      "source": [
        "class GradientClip(Callback):\n",
        "    \"Clip norm of gradients\"\n",
        "    order=11\n",
        "    def __init__(self,max_norm:float=1., norm_type:float=2.0): store_attr()\n",
        "    def before_step(self): nn.utils.clip_grad_norm_(self.parameters(), self.max_norm, self.norm_type)\n"
      ],
      "execution_count": null,
      "outputs": []
    },
    {
      "cell_type": "markdown",
      "metadata": {
        "id": "qHvucOZAOSgv"
      },
      "source": [
        "# Training"
      ]
    },
    {
      "cell_type": "code",
      "metadata": {
        "pycharm": {
          "name": "#%%\n"
        },
        "id": "8F7PJatGtIw0"
      },
      "source": [
        "model_config = PhobertQueryNerConfig.from_pretrained(\n",
        "    bert_model,\n",
        "    hidden_dropouy_prob=bert_dropout,\n",
        "    attention_probs_dropout_prob=bert_dropout,\n",
        "    mrc_dropout=mrc_dropout,\n",
        ")"
      ],
      "execution_count": null,
      "outputs": []
    },
    {
      "cell_type": "code",
      "metadata": {
        "pycharm": {
          "name": "#%%\n"
        },
        "colab": {
          "base_uri": "https://localhost:8080/"
        },
        "id": "ySzLwFRqtIw0",
        "outputId": "c41037aa-eacb-4ca2-da79-80046ce850b6"
      },
      "source": [
        "model = WrapperPhoBertQueryNER.from_pretrained(bert_model, config=model_config)"
      ],
      "execution_count": null,
      "outputs": [
        {
          "output_type": "stream",
          "text": [
            "Some weights of the model checkpoint at vinai/phobert-base were not used when initializing WrapperPhoBertQueryNER: ['lm_head.bias', 'lm_head.dense.weight', 'lm_head.dense.bias', 'lm_head.layer_norm.weight', 'lm_head.layer_norm.bias', 'lm_head.decoder.weight', 'lm_head.decoder.bias']\n",
            "- This IS expected if you are initializing WrapperPhoBertQueryNER from the checkpoint of a model trained on another task or with another architecture (e.g. initializing a BertForSequenceClassification model from a BertForPreTraining model).\n",
            "- This IS NOT expected if you are initializing WrapperPhoBertQueryNER from the checkpoint of a model that you expect to be exactly identical (initializing a BertForSequenceClassification model from a BertForSequenceClassification model).\n",
            "Some weights of WrapperPhoBertQueryNER were not initialized from the model checkpoint at vinai/phobert-base and are newly initialized: ['start_outputs.weight', 'start_outputs.bias', 'end_outputs.weight', 'end_outputs.bias', 'span_embedding.classifier1.weight', 'span_embedding.classifier1.bias', 'span_embedding.classifier2.weight', 'span_embedding.classifier2.bias']\n",
            "You should probably TRAIN this model on a down-stream task to be able to use it for predictions and inference.\n"
          ],
          "name": "stderr"
        }
      ]
    },
    {
      "cell_type": "code",
      "metadata": {
        "pycharm": {
          "name": "#%%\n"
        },
        "id": "zLD2PBGltIw1"
      },
      "source": [
        "loss_func = CustomLoss(\n",
        "    weight_start=weight_start,\n",
        "    weight_end=weight_end,\n",
        "    weight_span=weight_span,\n",
        "    span_loss_candidates=span_loss_candidates,\n",
        "    loss_type=loss_type,\n",
        ")"
      ],
      "execution_count": null,
      "outputs": []
    },
    {
      "cell_type": "code",
      "metadata": {
        "pycharm": {
          "name": "#%%\n"
        },
        "id": "xH-zoL7ltIw1"
      },
      "source": [
        "learner = Learner(\n",
        "    dls=dls,\n",
        "    model=model,\n",
        "    loss_func=loss_func,\n",
        "    opt_func=RAdam,\n",
        "    splitter=splitter,\n",
        "    metrics=[QuerySpanF1(flat=flat_ner),],\n",
        "    cbs=[\n",
        "        EarlyStoppingCallback(\n",
        "            monitor='query_span_f1',\n",
        "            min_delta=1e-4,\n",
        "            patience=10,\n",
        "        ),\n",
        "        SaveModelCallback(\n",
        "            monitor='query_span_f1',\n",
        "            min_delta=1e-4,\n",
        "            fname='best_query_span_f1_model',\n",
        "            with_opt=True,\n",
        "        ),\n",
        "        ReduceLROnPlateau(monitor='valid_loss', min_delta=1e-4, patience=2),\n",
        "        GradientAccumulation(n_acc=32),\n",
        "        GradientClip(max_norm=1., norm_type=2.0,),\n",
        "        CSVLogger(),\n",
        "    ],\n",
        "    wd=weight_decay,\n",
        ")"
      ],
      "execution_count": null,
      "outputs": []
    },
    {
      "cell_type": "markdown",
      "metadata": {
        "id": "zmHT3nrEOV6l"
      },
      "source": [
        "## Freeze Roberta"
      ]
    },
    {
      "cell_type": "code",
      "metadata": {
        "id": "NGTn6qe4KuOK"
      },
      "source": [
        "learner.freeze_to(-1)"
      ],
      "execution_count": null,
      "outputs": []
    },
    {
      "cell_type": "code",
      "metadata": {
        "pycharm": {
          "name": "#%%\n"
        },
        "id": "z_d9es-JtIw1",
        "colab": {
          "base_uri": "https://localhost:8080/",
          "height": 301
        },
        "outputId": "bdd5b604-3f25-449a-d974-1e82117a2ca0"
      },
      "source": [
        "learner.lr_find()"
      ],
      "execution_count": null,
      "outputs": [
        {
          "output_type": "display_data",
          "data": {
            "text/html": [
              ""
            ],
            "text/plain": [
              "<IPython.core.display.HTML object>"
            ]
          },
          "metadata": {
            "tags": []
          }
        },
        {
          "output_type": "execute_result",
          "data": {
            "text/plain": [
              "SuggestedLRs(lr_min=0.04365158379077912, lr_steep=0.04786301031708717)"
            ]
          },
          "metadata": {
            "tags": []
          },
          "execution_count": 46
        },
        {
          "output_type": "display_data",
          "data": {
            "image/png": "[encoded data removed]",
            "text/plain": [
              "<Figure size 432x288 with 1 Axes>"
            ]
          },
          "metadata": {
            "tags": [],
            "needs_background": "light"
          }
        }
      ]
    },
    {
      "cell_type": "code",
      "metadata": {
        "pycharm": {
          "name": "#%%\n"
        },
        "id": "XPYQWwhmtIw1",
        "colab": {
          "base_uri": "https://localhost:8080/",
          "height": 143
        },
        "outputId": "51d465f6-94d3-43a0-dabe-248d2117b8b9"
      },
      "source": [
        "learner.fit_one_cycle(2, 1e-3)"
      ],
      "execution_count": null,
      "outputs": [
        {
          "output_type": "display_data",
          "data": {
            "text/html": [
              "<table border=\"1\" class=\"dataframe\">\n",
              "  <thead>\n",
              "    <tr style=\"text-align: left;\">\n",
              "      <th>epoch</th>\n",
              "      <th>train_loss</th>\n",
              "      <th>valid_loss</th>\n",
              "      <th>query_span_f1</th>\n",
              "      <th>time</th>\n",
              "    </tr>\n",
              "  </thead>\n",
              "  <tbody>\n",
              "    <tr>\n",
              "      <td>0</td>\n",
              "      <td>0.027581</td>\n",
              "      <td>0.024263</td>\n",
              "      <td>0.790674</td>\n",
              "      <td>14:32</td>\n",
              "    </tr>\n",
              "    <tr>\n",
              "      <td>1</td>\n",
              "      <td>0.019686</td>\n",
              "      <td>0.018237</td>\n",
              "      <td>0.861990</td>\n",
              "      <td>14:29</td>\n",
              "    </tr>\n",
              "  </tbody>\n",
              "</table>"
            ],
            "text/plain": [
              "<IPython.core.display.HTML object>"
            ]
          },
          "metadata": {
            "tags": []
          }
        },
        {
          "output_type": "stream",
          "text": [
            "Better model found at epoch 0 with query_span_f1 value: 0.7906743288040161.\n",
            "Better model found at epoch 1 with query_span_f1 value: 0.8619901537895203.\n"
          ],
          "name": "stdout"
        }
      ]
    },
    {
      "cell_type": "markdown",
      "metadata": {
        "id": "yoHHWxjGOZxk"
      },
      "source": [
        "## Unfreeze"
      ]
    },
    {
      "cell_type": "code",
      "metadata": {
        "colab": {
          "base_uri": "https://localhost:8080/"
        },
        "id": "4bOA6UgmU3lw",
        "outputId": "ae312fc7-8999-44c3-bc33-0781a2476e61"
      },
      "source": [
        "learner.load('best_query_span_f1_model')"
      ],
      "execution_count": null,
      "outputs": [
        {
          "output_type": "execute_result",
          "data": {
            "text/plain": [
              "<fastai.learner.Learner at 0x7f30c2b6af28>"
            ]
          },
          "metadata": {
            "tags": []
          },
          "execution_count": 38
        }
      ]
    },
    {
      "cell_type": "code",
      "metadata": {
        "colab": {
          "base_uri": "https://localhost:8080/"
        },
        "id": "Xc0MIsOTUtgx",
        "outputId": "fc84d74f-5d9b-4b70-ab59-e400318027a2"
      },
      "source": [
        "learner.dls = get_dls(ds, 8)"
      ],
      "execution_count": null,
      "outputs": [
        {
          "output_type": "stream",
          "text": [
            "Setting up after_item: Pipeline: \n",
            "Setting up before_batch: Pipeline: BeforeBatchTransform\n",
            "Setting up after_batch: Pipeline: \n"
          ],
          "name": "stdout"
        }
      ]
    },
    {
      "cell_type": "code",
      "metadata": {
        "id": "UdnYX6AVN_k0"
      },
      "source": [
        "for cb in learner.cbs:\n",
        "    if type(cb) is SaveModelCallback:\n",
        "        cb.fname = 'best_query_span_f1_model_unfreezed'"
      ],
      "execution_count": null,
      "outputs": []
    },
    {
      "cell_type": "code",
      "metadata": {
        "colab": {
          "base_uri": "https://localhost:8080/",
          "height": 283
        },
        "id": "yNRQbTerMbJs",
        "outputId": "c69ae027-313c-4568-f9c5-72f3e5100755"
      },
      "source": [
        "learner.unfreeze()\n",
        "learner.lr_find()"
      ],
      "execution_count": null,
      "outputs": [
        {
          "output_type": "display_data",
          "data": {
            "text/html": [
              ""
            ],
            "text/plain": [
              "<IPython.core.display.HTML object>"
            ]
          },
          "metadata": {
            "tags": []
          }
        },
        {
          "output_type": "display_data",
          "data": {
            "image/png": "[encoded data removed]",
            "text/plain": [
              "<Figure size 432x288 with 1 Axes>"
            ]
          },
          "metadata": {
            "tags": [],
            "needs_background": "light"
          }
        }
      ]
    },
    {
      "cell_type": "code",
      "metadata": {
        "id": "XCsYTq_5xBgT",
        "colab": {
          "base_uri": "https://localhost:8080/",
          "height": 981
        },
        "outputId": "a1d5b7a0-91eb-4ff2-ef5a-8d44fdc4b74b"
      },
      "source": [
        "lr = 5e-5\n",
        "learner.fit_one_cycle(20, slice(lr / (2.6 **4), lr))"
      ],
      "execution_count": null,
      "outputs": [
        {
          "output_type": "display_data",
          "data": {
            "text/html": [
              "<table border=\"1\" class=\"dataframe\">\n",
              "  <thead>\n",
              "    <tr style=\"text-align: left;\">\n",
              "      <th>epoch</th>\n",
              "      <th>train_loss</th>\n",
              "      <th>valid_loss</th>\n",
              "      <th>query_span_f1</th>\n",
              "      <th>time</th>\n",
              "    </tr>\n",
              "  </thead>\n",
              "  <tbody>\n",
              "    <tr>\n",
              "      <td>0</td>\n",
              "      <td>0.020580</td>\n",
              "      <td>0.017088</td>\n",
              "      <td>0.868118</td>\n",
              "      <td>17:36</td>\n",
              "    </tr>\n",
              "    <tr>\n",
              "      <td>1</td>\n",
              "      <td>0.014768</td>\n",
              "      <td>0.014494</td>\n",
              "      <td>0.881397</td>\n",
              "      <td>17:38</td>\n",
              "    </tr>\n",
              "    <tr>\n",
              "      <td>2</td>\n",
              "      <td>0.014994</td>\n",
              "      <td>0.013622</td>\n",
              "      <td>0.893334</td>\n",
              "      <td>17:37</td>\n",
              "    </tr>\n",
              "    <tr>\n",
              "      <td>3</td>\n",
              "      <td>0.014358</td>\n",
              "      <td>0.012006</td>\n",
              "      <td>0.909479</td>\n",
              "      <td>17:36</td>\n",
              "    </tr>\n",
              "    <tr>\n",
              "      <td>4</td>\n",
              "      <td>0.017818</td>\n",
              "      <td>0.010342</td>\n",
              "      <td>0.916929</td>\n",
              "      <td>17:36</td>\n",
              "    </tr>\n",
              "    <tr>\n",
              "      <td>5</td>\n",
              "      <td>0.007143</td>\n",
              "      <td>0.010597</td>\n",
              "      <td>0.925097</td>\n",
              "      <td>17:36</td>\n",
              "    </tr>\n",
              "    <tr>\n",
              "      <td>6</td>\n",
              "      <td>0.008613</td>\n",
              "      <td>0.011422</td>\n",
              "      <td>0.928479</td>\n",
              "      <td>17:36</td>\n",
              "    </tr>\n",
              "    <tr>\n",
              "      <td>7</td>\n",
              "      <td>0.006563</td>\n",
              "      <td>0.009565</td>\n",
              "      <td>0.926283</td>\n",
              "      <td>17:36</td>\n",
              "    </tr>\n",
              "    <tr>\n",
              "      <td>8</td>\n",
              "      <td>0.007143</td>\n",
              "      <td>0.012160</td>\n",
              "      <td>0.933068</td>\n",
              "      <td>17:31</td>\n",
              "    </tr>\n",
              "    <tr>\n",
              "      <td>9</td>\n",
              "      <td>0.005761</td>\n",
              "      <td>0.011050</td>\n",
              "      <td>0.938787</td>\n",
              "      <td>17:31</td>\n",
              "    </tr>\n",
              "    <tr>\n",
              "      <td>10</td>\n",
              "      <td>0.002819</td>\n",
              "      <td>0.011849</td>\n",
              "      <td>0.933724</td>\n",
              "      <td>17:29</td>\n",
              "    </tr>\n",
              "    <tr>\n",
              "      <td>11</td>\n",
              "      <td>0.003176</td>\n",
              "      <td>0.012186</td>\n",
              "      <td>0.938945</td>\n",
              "      <td>17:26</td>\n",
              "    </tr>\n",
              "    <tr>\n",
              "      <td>12</td>\n",
              "      <td>0.004260</td>\n",
              "      <td>0.013226</td>\n",
              "      <td>0.937578</td>\n",
              "      <td>17:21</td>\n",
              "    </tr>\n",
              "    <tr>\n",
              "      <td>13</td>\n",
              "      <td>0.003991</td>\n",
              "      <td>0.012665</td>\n",
              "      <td>0.939150</td>\n",
              "      <td>17:12</td>\n",
              "    </tr>\n",
              "    <tr>\n",
              "      <td>14</td>\n",
              "      <td>0.002660</td>\n",
              "      <td>0.014370</td>\n",
              "      <td>0.938952</td>\n",
              "      <td>17:20</td>\n",
              "    </tr>\n",
              "    <tr>\n",
              "      <td>15</td>\n",
              "      <td>0.001572</td>\n",
              "      <td>0.014229</td>\n",
              "      <td>0.939115</td>\n",
              "      <td>17:20</td>\n",
              "    </tr>\n",
              "    <tr>\n",
              "      <td>16</td>\n",
              "      <td>0.001637</td>\n",
              "      <td>0.014786</td>\n",
              "      <td>0.939804</td>\n",
              "      <td>17:08</td>\n",
              "    </tr>\n",
              "    <tr>\n",
              "      <td>17</td>\n",
              "      <td>0.004733</td>\n",
              "      <td>0.014996</td>\n",
              "      <td>0.938518</td>\n",
              "      <td>17:14</td>\n",
              "    </tr>\n",
              "    <tr>\n",
              "      <td>18</td>\n",
              "      <td>0.001107</td>\n",
              "      <td>0.015238</td>\n",
              "      <td>0.939117</td>\n",
              "      <td>17:21</td>\n",
              "    </tr>\n",
              "    <tr>\n",
              "      <td>19</td>\n",
              "      <td>0.001990</td>\n",
              "      <td>0.015225</td>\n",
              "      <td>0.938860</td>\n",
              "      <td>17:25</td>\n",
              "    </tr>\n",
              "  </tbody>\n",
              "</table>"
            ],
            "text/plain": [
              "<IPython.core.display.HTML object>"
            ]
          },
          "metadata": {
            "tags": []
          }
        },
        {
          "output_type": "stream",
          "text": [
            "Better model found at epoch 0 with query_span_f1 value: 0.868118166923523.\n",
            "Better model found at epoch 1 with query_span_f1 value: 0.8813967108726501.\n",
            "Better model found at epoch 2 with query_span_f1 value: 0.8933342099189758.\n",
            "Better model found at epoch 3 with query_span_f1 value: 0.9094786047935486.\n",
            "Better model found at epoch 4 with query_span_f1 value: 0.9169294834136963.\n",
            "Better model found at epoch 5 with query_span_f1 value: 0.9250966906547546.\n",
            "Better model found at epoch 6 with query_span_f1 value: 0.9284788966178894.\n",
            "Epoch 6: reducing lr to 4.783892106019353e-06\n",
            "Better model found at epoch 8 with query_span_f1 value: 0.9330684542655945.\n",
            "Better model found at epoch 9 with query_span_f1 value: 0.9387867450714111.\n",
            "Epoch 9: reducing lr to 3.750068784234772e-06\n",
            "Better model found at epoch 11 with query_span_f1 value: 0.9389450550079346.\n",
            "Epoch 11: reducing lr to 2.761407777272366e-06\n",
            "Better model found at epoch 13 with query_span_f1 value: 0.9391496181488037.\n",
            "Epoch 13: reducing lr to 1.7275519468564165e-06\n",
            "Epoch 15: reducing lr to 8.272634765556793e-07\n",
            "Better model found at epoch 16 with query_span_f1 value: 0.9398037195205688.\n",
            "Epoch 17: reducing lr to 2.162104458295411e-07\n",
            "Epoch 19: reducing lr to 5.000084682841373e-11\n"
          ],
          "name": "stdout"
        }
      ]
    },
    {
      "cell_type": "code",
      "metadata": {
        "id": "dQokypFc9pf1"
      },
      "source": [
        "learner.export('mrc_ner_model_f18903.pkl')"
      ],
      "execution_count": null,
      "outputs": []
    },
    {
      "cell_type": "markdown",
      "metadata": {
        "id": "1F_u7az4uW0S"
      },
      "source": [
        "# Test"
      ]
    },
    {
      "cell_type": "code",
      "metadata": {
        "colab": {
          "base_uri": "https://localhost:8080/"
        },
        "id": "M5SlxLcSuaPX",
        "outputId": "372fc97b-ba26-4b10-a22b-c69e09357662"
      },
      "source": [
        "learner.load('best_query_span_f1_model_unfreezed')"
      ],
      "execution_count": null,
      "outputs": [
        {
          "output_type": "execute_result",
          "data": {
            "text/plain": [
              "<fastai.learner.Learner at 0x7f30d13d0400>"
            ]
          },
          "metadata": {
            "tags": []
          },
          "execution_count": 82
        }
      ]
    },
    {
      "cell_type": "code",
      "metadata": {
        "id": "1gqqL11CUMR6"
      },
      "source": [
        "test_dl = learner.dls.test_dl(test_data, with_labels=True)"
      ],
      "execution_count": null,
      "outputs": []
    },
    {
      "cell_type": "code",
      "metadata": {
        "id": "4txaDJwnvIB5"
      },
      "source": [
        "test_dl.one_batch()"
      ],
      "execution_count": null,
      "outputs": []
    },
    {
      "cell_type": "code",
      "metadata": {
        "colab": {
          "base_uri": "https://localhost:8080/",
          "height": 35
        },
        "id": "ARDiywXm0TfW",
        "outputId": "507b6325-6d95-4f77-e97c-5203146bb7d1"
      },
      "source": [
        "learner.validate(dl=learner.dls.valid)"
      ],
      "execution_count": null,
      "outputs": [
        {
          "output_type": "display_data",
          "data": {
            "text/html": [
              ""
            ],
            "text/plain": [
              "<IPython.core.display.HTML object>"
            ]
          },
          "metadata": {
            "tags": []
          }
        },
        {
          "output_type": "execute_result",
          "data": {
            "text/plain": [
              "(#2) [0.015297063626348972,0.9398037195205688]"
            ]
          },
          "metadata": {
            "tags": []
          },
          "execution_count": 83
        }
      ]
    },
    {
      "cell_type": "code",
      "metadata": {
        "colab": {
          "base_uri": "https://localhost:8080/",
          "height": 35
        },
        "id": "XvVVG9cy0UC5",
        "outputId": "0e8dd13d-fcff-4b98-ab20-1c34c36f0d23"
      },
      "source": [
        "learner.validate(dl=test_dl)"
      ],
      "execution_count": null,
      "outputs": [
        {
          "output_type": "display_data",
          "data": {
            "text/html": [
              ""
            ],
            "text/plain": [
              "<IPython.core.display.HTML object>"
            ]
          },
          "metadata": {
            "tags": []
          }
        },
        {
          "output_type": "execute_result",
          "data": {
            "text/plain": [
              "(#2) [0.025697126984596252,0.8903325200080872]"
            ]
          },
          "metadata": {
            "tags": []
          },
          "execution_count": 84
        }
      ]
    },
    {
      "cell_type": "code",
      "metadata": {
        "id": "znSOzLDczwoO"
      },
      "source": [
        ""
      ],
      "execution_count": null,
      "outputs": []
    }
  ]
}